{
 "cells": [
  {
   "cell_type": "markdown",
   "metadata": {},
   "source": [
    "First Things First"
   ]
  },
  {
   "cell_type": "code",
   "execution_count": 1,
   "metadata": {},
   "outputs": [
    {
     "name": "stdout",
     "output_type": "stream",
     "text": [
      "Hello World!\n"
     ]
    }
   ],
   "source": [
    "print(\"Hello World!\")"
   ]
  },
  {
   "cell_type": "markdown",
   "metadata": {},
   "source": [
    "Data Types"
   ]
  },
  {
   "cell_type": "code",
   "execution_count": 2,
   "metadata": {},
   "outputs": [
    {
     "name": "stdout",
     "output_type": "stream",
     "text": [
      "<class 'int'>\n",
      "<class 'float'>\n",
      "<class 'str'>\n",
      "<class 'bool'>\n"
     ]
    }
   ],
   "source": [
    "i = 1\n",
    "f = 3.5\n",
    "s = \"hey\"\n",
    "b = True\n",
    "\n",
    "print(type(i))\n",
    "print(type(f))\n",
    "print(type(s))\n",
    "print(type(b))"
   ]
  },
  {
   "cell_type": "markdown",
   "metadata": {},
   "source": [
    "Operators"
   ]
  },
  {
   "cell_type": "code",
   "execution_count": 3,
   "metadata": {
    "scrolled": true
   },
   "outputs": [
    {
     "name": "stdout",
     "output_type": "stream",
     "text": [
      "8\n",
      "9\n",
      "3\n",
      "\n",
      "\n",
      "True\n",
      "True\n",
      "True\n",
      "\n",
      "\n",
      "6\n",
      "33\n",
      "33\n"
     ]
    }
   ],
   "source": [
    "print(2 ** 3) # Exponentiation\n",
    "print(97 // 10) # Floor Division\n",
    "print(27 % 6) # Modulo\n",
    "\n",
    "print(\"\\n\")\n",
    "\n",
    "print(1 == 1) # True\n",
    "print(True > False) # True\n",
    "print(5 != False) # True\n",
    "\n",
    "print(\"\\n\")\n",
    "\n",
    "print(3 + 3)\n",
    "print(\"3\" + \"3\")\n",
    "#print(\"3\" + 3) Error: can only concatenate same data types\n",
    "print(\"3\" + str(3))\n"
   ]
  },
  {
   "cell_type": "markdown",
   "metadata": {},
   "source": [
    "Conditional Logic and Loops"
   ]
  },
  {
   "cell_type": "code",
   "execution_count": 4,
   "metadata": {
    "scrolled": false
   },
   "outputs": [
    {
     "name": "stdout",
     "output_type": "stream",
     "text": [
      "Okay\n",
      "\n",
      "\n",
      "5\n",
      "4\n",
      "3\n",
      "2\n",
      "1\n",
      "\n",
      "\n",
      "4\n",
      "3\n",
      "2\n",
      "1\n",
      "0\n",
      "\n",
      "\n",
      "13\n",
      "17\n",
      "21\n",
      "29\n"
     ]
    }
   ],
   "source": [
    "# Conditional Logic\n",
    "x = 45.5\n",
    "if (x < 33):\n",
    "    print(\"Fail\")\n",
    "elif (x < 50):\n",
    "    print(\"Okay\")\n",
    "else:\n",
    "    print(\"Good\")\n",
    "\n",
    "print(\"\\n\")    \n",
    "\n",
    "# While Loop\n",
    "y = 5\n",
    "while (y > 0):\n",
    "    print(y)\n",
    "    y = y - 1\n",
    "\n",
    "print(\"\\n\")    \n",
    "\n",
    "y = 5\n",
    "while (y > 0):\n",
    "    y = y - 1\n",
    "    print(y)\n",
    "\n",
    "print(\"\\n\")    \n",
    "\n",
    "# For Loop\n",
    "my_list = [13, 17, 21, 29]\n",
    "for i in my_list:  # For each element in sequence\n",
    "    print(i)\n"
   ]
  },
  {
   "cell_type": "markdown",
   "metadata": {},
   "source": [
    "Functions and Methods"
   ]
  },
  {
   "cell_type": "code",
   "execution_count": 5,
   "metadata": {
    "scrolled": true
   },
   "outputs": [
    {
     "name": "stdout",
     "output_type": "stream",
     "text": [
      "2\n",
      "1.7\n"
     ]
    }
   ],
   "source": [
    "# Round\n",
    "print(round(1.68)) # Default argument is 0\n",
    "print(round(1.68, 1))"
   ]
  },
  {
   "cell_type": "markdown",
   "metadata": {},
   "source": [
    "Lists"
   ]
  },
  {
   "cell_type": "code",
   "execution_count": 6,
   "metadata": {},
   "outputs": [
    {
     "name": "stdout",
     "output_type": "stream",
     "text": [
      "1\n",
      "125\n",
      "\n",
      "\n",
      "[1, 8, 27, 64, 125]\n",
      "[1, 8, 27, 64, 125]\n",
      "[1, 8, 27, 64, 125]\n",
      "[1, 8]\n",
      "[1, 8]\n",
      "[27, 64, 125]\n",
      "\n",
      "\n",
      "[1, 8, 27, 64, 125]\n",
      "[0, 8, 27, 64, 125]\n",
      "[0, 8, 27, 64, 125, 216]\n",
      "[0, 8, 27, 64, 125]\n",
      "[0, 8, 27, 64]\n",
      "\n",
      "\n",
      "[1, 8, 27, 64]\n",
      "[1, 8, 27, 64]\n",
      "\n",
      "\n",
      "[3, 'aaaaa', 3]\n"
     ]
    }
   ],
   "source": [
    "my_list = [1,8,27,64,125]\n",
    "\n",
    "print(my_list[0]) # Index starts from 0\n",
    "print(my_list[-1]) # Accessing Last Element\n",
    "\n",
    "print(\"\\n\")\n",
    "\n",
    "print(my_list) # All elements\n",
    "print(my_list[:]) # All elements - No difference in output\n",
    "print(my_list[0:]) # All elements\n",
    "print(my_list[0:2]) # First index included Last index not included\n",
    "print(my_list[:2]) # Same as above\n",
    "print(my_list[2:]) # 2nd and beyond\n",
    "\n",
    "print(\"\\n\")\n",
    "\n",
    "print(my_list)\n",
    "my_list[0] = 0 # Update element\n",
    "print(my_list)\n",
    "\n",
    "my_list = my_list + [216] # Add element\n",
    "print(my_list)\n",
    "\n",
    "del(my_list[-1]) # Delete Last Element\n",
    "print(my_list)\n",
    "del my_list[-1] # Alternate syntax\n",
    "print(my_list)\n",
    "\n",
    "print(\"\\n\")\n",
    "\n",
    "my_new_list = my_list\n",
    "my_new_list[0] = 1\n",
    "print(my_new_list)\n",
    "print(my_list) # Old List is also affected\n",
    "my_new_list_copy = list(my_new_list) # Use this or my_new_list_copy = my_new_list(:)\n",
    "\n",
    "print(\"\\n\")\n",
    "five_a = [1 + 2, \"a\" * 5, 3]\n",
    "print(five_a) # A is printed 5 times"
   ]
  },
  {
   "cell_type": "markdown",
   "metadata": {},
   "source": [
    "Dictionaries"
   ]
  },
  {
   "cell_type": "code",
   "execution_count": 7,
   "metadata": {
    "scrolled": true
   },
   "outputs": [
    {
     "name": "stdout",
     "output_type": "stream",
     "text": [
      "{'model_a': 500000, 'model_b': 400000, 'model_c': 350000}\n",
      "\n",
      "\n",
      "500000\n",
      "{'model_a': 500000, 'model_b': 450000, 'model_c': 350000}\n",
      "\n",
      "\n",
      "{'model_b': 450000, 'model_c': 350000}\n"
     ]
    }
   ],
   "source": [
    "pricing = {\"model_a\":500000 , \"model_b\":400000, \"model_c\":350000}\n",
    "print(pricing)\n",
    "print(\"\\n\")\n",
    "\n",
    "print(pricing['model_a']) # Printing an element\n",
    "pricing['model_b'] = 450000 # Updating an element\n",
    "print(pricing)\n",
    "print(\"\\n\")\n",
    "\n",
    "del(pricing['model_a']) # Deleting an element\n",
    "print(pricing)\n"
   ]
  },
  {
   "cell_type": "code",
   "execution_count": 8,
   "metadata": {},
   "outputs": [
    {
     "name": "stdout",
     "output_type": "stream",
     "text": [
      "No variables match your requested type.\n"
     ]
    }
   ],
   "source": [
    "%whos # To view the variables in the environment"
   ]
  },
  {
   "cell_type": "markdown",
   "metadata": {},
   "source": [
    "NumPy"
   ]
  },
  {
   "cell_type": "code",
   "execution_count": 9,
   "metadata": {},
   "outputs": [
    {
     "name": "stdout",
     "output_type": "stream",
     "text": [
      "[79, 80, 85, 90, 70]\n",
      "<class 'list'>\n",
      "[79 80 85 90 70]\n",
      "<class 'numpy.ndarray'>\n",
      "\n",
      "\n",
      "[79, 80, 85, 90, 70, 50]\n",
      "[129 130 135 140 120]\n",
      "\n",
      "\n",
      "[1 2 3]\n",
      "[11 12 13]\n",
      "[11 12 13]\n",
      "[ 1  2  3 10]\n",
      "\n",
      "\n",
      "[[ 1  2  3  4]\n",
      " [ 1  4  9 16]]\n",
      "<class 'numpy.ndarray'>\n",
      "(2, 4)\n",
      "\n",
      "\n",
      "2\n",
      "2\n",
      "\n",
      "\n",
      "[ True  True  True  True False]\n",
      "[129 130 135 140]\n",
      "[129 130 135 140]\n"
     ]
    }
   ],
   "source": [
    "import numpy as np\n",
    "\n",
    "my_marks_list = [79,80,85,90,70]\n",
    "my_marks_arr = np.array([79,80,85,90,70])\n",
    "print(my_marks_list) \n",
    "print(type(my_marks_list)) # list\n",
    "print(my_marks_arr)\n",
    "print(type(my_marks_arr)) # numpy.ndarray\n",
    "\n",
    "print(\"\\n\")\n",
    "\n",
    "my_marks_list = my_marks_list + [50] # adds 50 in the list\n",
    "my_marks_arr = my_marks_arr + 50 # add 50 to each element\n",
    "print(my_marks_list)\n",
    "print(my_marks_arr)\n",
    "\n",
    "print(\"\\n\")\n",
    "\n",
    "\n",
    "# Appending elements\n",
    "init_list = np.array([1,2,3])\n",
    "init_list_1 = init_list + 10 # Adds one to each elements\n",
    "init_list_2 = init_list + np.array([10]) # Same\n",
    "init_list_3 = np.append(init_list,np.array([10])) # Append\n",
    "\n",
    "print(init_list)\n",
    "print(init_list_1)\n",
    "print(init_list_2)\n",
    "print(init_list_3)\n",
    "\n",
    "print(\"\\n\")\n",
    "\n",
    "my_2d_array = np.array([[1,2,3,4],[1,4,9,16]])\n",
    "print(my_2d_array)\n",
    "print(type(my_2d_array))\n",
    "print(my_2d_array.shape) # rows, column\n",
    "\n",
    "print(\"\\n\")\n",
    "\n",
    "# Accessing elements\n",
    "print(my_2d_array[0][1])\n",
    "print(my_2d_array[0,1])\n",
    "\n",
    "print(\"\\n\")\n",
    "\n",
    "\n",
    "# Filtering Elements\n",
    "a_plus = my_marks_arr > 120\n",
    "print(a_plus)\n",
    "\n",
    "a_plus_list = my_marks_arr[a_plus]\n",
    "print(a_plus_list)\n",
    "a_plus_list_easy = my_marks_arr[my_marks_arr>120] # Alternative\n",
    "print(a_plus_list_easy)\n",
    "\n"
   ]
  },
  {
   "cell_type": "markdown",
   "metadata": {},
   "source": [
    "Pandas and Dataframes"
   ]
  },
  {
   "cell_type": "code",
   "execution_count": 10,
   "metadata": {},
   "outputs": [
    {
     "name": "stdout",
     "output_type": "stream",
     "text": [
      "{'S_no': [1, 2, 3, 4], 'Country': ['United States', 'Brazil', 'India', 'Russia'], 'Cases': [1.9, 1, 0.8, 0.6]}\n",
      "   S_no        Country  Cases\n",
      "0     1  United States    1.9\n",
      "1     2         Brazil    1.0\n",
      "2     3          India    0.8\n",
      "3     4         Russia    0.6\n"
     ]
    }
   ],
   "source": [
    "# Creating DataFrames\n",
    "\n",
    "import pandas as pd\n",
    "\n",
    "s_no = [1,2,3,4]\n",
    "country = [\"United States\", \"Brazil\", \"India\", \"Russia\"]\n",
    "cases = [1.9, 1, 0.8, 0.6]\n",
    "\n",
    "df_dict = {\"S_no\":s_no, \"Country\":country, \"Cases\":cases}\n",
    "print(df_dict)\n",
    "\n",
    "df = pd.DataFrame(df_dict)\n",
    "print(df) # Row Indexes are Created Automatically\n",
    "\n",
    "# Alternative\n",
    "df_2 = pd.DataFrame(\n",
    "    {\n",
    "    's_no' : [1,2,3,4],\n",
    "    'country' : [\"United States\", \"Brazil\", \"India\", \"Russia\"],\n",
    "    'cases' : [1.9, 1, 0.8, 0.6]\n",
    "    }\n",
    ")"
   ]
  },
  {
   "cell_type": "code",
   "execution_count": 11,
   "metadata": {},
   "outputs": [
    {
     "name": "stdout",
     "output_type": "stream",
     "text": [
      "     S_no        Country  Cases\n",
      "USA     1  United States    1.9\n",
      "BRA     2         Brazil    1.0\n",
      "IND     3          India    0.8\n",
      "RUS     4         Russia    0.6\n"
     ]
    }
   ],
   "source": [
    "# Assign Row Index\n",
    "df.index = [\"USA\", \"BRA\", \"IND\", \"RUS\"]\n",
    "print(df)"
   ]
  },
  {
   "cell_type": "code",
   "execution_count": 12,
   "metadata": {
    "scrolled": false
   },
   "outputs": [
    {
     "name": "stdout",
     "output_type": "stream",
     "text": [
      "<class 'pandas.core.frame.DataFrame'>\n",
      "Index: 4 entries, USA to RUS\n",
      "Data columns (total 3 columns):\n",
      " #   Column   Non-Null Count  Dtype  \n",
      "---  ------   --------------  -----  \n",
      " 0   S_no     4 non-null      int64  \n",
      " 1   Country  4 non-null      object \n",
      " 2   Cases    4 non-null      float64\n",
      "dtypes: float64(1), int64(1), object(1)\n",
      "memory usage: 128.0+ bytes\n",
      "None\n",
      "           S_no    Cases\n",
      "count  4.000000  4.00000\n",
      "mean   2.500000  1.07500\n",
      "std    1.290994  0.57373\n",
      "min    1.000000  0.60000\n",
      "25%    1.750000  0.75000\n",
      "50%    2.500000  0.90000\n",
      "75%    3.250000  1.22500\n",
      "max    4.000000  1.90000\n",
      "(4, 3)\n",
      "     S_no        Country  Cases\n",
      "USA     1  United States    1.9\n",
      "BRA     2         Brazil    1.0\n",
      "IND     3          India    0.8\n",
      "RUS     4         Russia    0.6\n"
     ]
    }
   ],
   "source": [
    "# Exploring Data\n",
    "print(df.info()) # Info Method\n",
    "print(df.describe()) # Describe Method\n",
    "print(df.shape) # Not a Method, but an Attribute\n",
    "print(df.head())"
   ]
  },
  {
   "cell_type": "code",
   "execution_count": 13,
   "metadata": {
    "scrolled": true
   },
   "outputs": [
    {
     "data": {
      "text/plain": [
       "array([[1, 'United States', 1.9],\n",
       "       [2, 'Brazil', 1.0],\n",
       "       [3, 'India', 0.8],\n",
       "       [4, 'Russia', 0.6]], dtype=object)"
      ]
     },
     "execution_count": 13,
     "metadata": {},
     "output_type": "execute_result"
    }
   ],
   "source": [
    "# Components - Values, Columns and Index\n",
    "df.values\n"
   ]
  },
  {
   "cell_type": "code",
   "execution_count": 14,
   "metadata": {},
   "outputs": [
    {
     "data": {
      "text/plain": [
       "Index(['S_no', 'Country', 'Cases'], dtype='object')"
      ]
     },
     "execution_count": 14,
     "metadata": {},
     "output_type": "execute_result"
    }
   ],
   "source": [
    "df.columns\n"
   ]
  },
  {
   "cell_type": "code",
   "execution_count": 15,
   "metadata": {},
   "outputs": [
    {
     "data": {
      "text/plain": [
       "Index(['USA', 'BRA', 'IND', 'RUS'], dtype='object')"
      ]
     },
     "execution_count": 15,
     "metadata": {},
     "output_type": "execute_result"
    }
   ],
   "source": [
    "df.index"
   ]
  },
  {
   "cell_type": "code",
   "execution_count": 16,
   "metadata": {},
   "outputs": [
    {
     "data": {
      "text/html": [
       "<div>\n",
       "<style scoped>\n",
       "    .dataframe tbody tr th:only-of-type {\n",
       "        vertical-align: middle;\n",
       "    }\n",
       "\n",
       "    .dataframe tbody tr th {\n",
       "        vertical-align: top;\n",
       "    }\n",
       "\n",
       "    .dataframe thead th {\n",
       "        text-align: right;\n",
       "    }\n",
       "</style>\n",
       "<table border=\"1\" class=\"dataframe\">\n",
       "  <thead>\n",
       "    <tr style=\"text-align: right;\">\n",
       "      <th></th>\n",
       "      <th>S_no</th>\n",
       "      <th>Country</th>\n",
       "      <th>Cases</th>\n",
       "    </tr>\n",
       "  </thead>\n",
       "  <tbody>\n",
       "    <tr>\n",
       "      <th>USA</th>\n",
       "      <td>1</td>\n",
       "      <td>United States</td>\n",
       "      <td>1.9</td>\n",
       "    </tr>\n",
       "    <tr>\n",
       "      <th>BRA</th>\n",
       "      <td>2</td>\n",
       "      <td>Brazil</td>\n",
       "      <td>1.0</td>\n",
       "    </tr>\n",
       "    <tr>\n",
       "      <th>IND</th>\n",
       "      <td>3</td>\n",
       "      <td>India</td>\n",
       "      <td>0.8</td>\n",
       "    </tr>\n",
       "    <tr>\n",
       "      <th>RUS</th>\n",
       "      <td>4</td>\n",
       "      <td>Russia</td>\n",
       "      <td>0.6</td>\n",
       "    </tr>\n",
       "  </tbody>\n",
       "</table>\n",
       "</div>"
      ],
      "text/plain": [
       "     S_no        Country  Cases\n",
       "USA     1  United States    1.9\n",
       "BRA     2         Brazil    1.0\n",
       "IND     3          India    0.8\n",
       "RUS     4         Russia    0.6"
      ]
     },
     "execution_count": 16,
     "metadata": {},
     "output_type": "execute_result"
    }
   ],
   "source": [
    "# Sorting Data\n",
    "#df.sort_values(\"Cases\") # Ascending by Default\n",
    "df.sort_values(\"Cases\", ascending = False) # Use ascending = [True,False]) for Multi-Level Sort\n"
   ]
  },
  {
   "cell_type": "code",
   "execution_count": 17,
   "metadata": {},
   "outputs": [
    {
     "name": "stdout",
     "output_type": "stream",
     "text": [
      "     S_no        Country  Cases\n",
      "USA     1  United States    1.9\n",
      "BRA     2         Brazil    1.0\n",
      "\n",
      "\n",
      "<class 'pandas.core.series.Series'>\n",
      "<class 'pandas.core.frame.DataFrame'>\n",
      "           Country  Cases\n",
      "USA  United States    1.9\n",
      "BRA         Brazil    1.0\n",
      "IND          India    0.8\n",
      "RUS         Russia    0.6\n",
      "\n",
      "\n"
     ]
    }
   ],
   "source": [
    "# Filtering Rows/Columns\n",
    "print(df[0:2]) # Filtering Rows. Default Return Type is Pandas DataFrame\n",
    "print(\"\\n\")\n",
    "print(type(df[\"Country\"])) # Selecting Columns. Default Return Type is Pandas Series. More than one Columns can't be Selected!\n",
    "print(type(df[[\"Country\", \"Cases\"]])) # Selecting Multiple Columns and Returning Pandas DataFrame\n",
    "print(df[[\"Country\", \"Cases\"]])\n",
    "print(\"\\n\")"
   ]
  },
  {
   "cell_type": "code",
   "execution_count": 18,
   "metadata": {},
   "outputs": [
    {
     "name": "stdout",
     "output_type": "stream",
     "text": [
      "     S_no        Country  Cases\n",
      "USA     1  United States    1.9\n",
      "BRA     2         Brazil    1.0\n",
      "     S_no Country  Cases\n",
      "BRA     2  Brazil    1.0\n"
     ]
    }
   ],
   "source": [
    "# Filtering Data Based on Conditions\n",
    "print(df[df[\"Cases\"]>=1]) # Subsetting Rows wrt a Condition\n",
    "\n",
    "print(df[(df[\"Cases\"]>=1) & (df[\"S_no\"] >= 2)]) # Multiple Conditions\n"
   ]
  },
  {
   "cell_type": "code",
   "execution_count": 19,
   "metadata": {
    "scrolled": true
   },
   "outputs": [
    {
     "name": "stdout",
     "output_type": "stream",
     "text": [
      "     S_no        Country  Cases\n",
      "USA     1  United States    1.9\n",
      "IND     3          India    0.8\n"
     ]
    }
   ],
   "source": [
    "# Is In Method - Multiple Filters\n",
    "print(df[df[\"Country\"].isin([\"United States\", \"India\"])])"
   ]
  },
  {
   "cell_type": "code",
   "execution_count": 20,
   "metadata": {},
   "outputs": [
    {
     "name": "stdout",
     "output_type": "stream",
     "text": [
      "S_no                   1\n",
      "Country    United States\n",
      "Cases                1.9\n",
      "Name: USA, dtype: object\n",
      "\n",
      "\n",
      "           Country  Cases\n",
      "USA  United States    1.9\n",
      "IND          India    0.8\n",
      "\n",
      "\n",
      "           Country  Cases\n",
      "USA  United States    1.9\n",
      "IND          India    0.8\n",
      "\n",
      "\n"
     ]
    }
   ],
   "source": [
    "# loc and iloc\n",
    "print(df.loc[\"USA\"]) # Selecting Rows using loc. Default output isn't a DF. Use Double Square Brackets for DF\n",
    "print(\"\\n\")\n",
    "print(df.loc[[\"USA\", \"IND\"],[\"Country\", \"Cases\"]]) # Output as DF by using double brackets\n",
    "print(\"\\n\")\n",
    "print(df.iloc[[0,2],[1, 2]]) # Same result using iloc - DF Index isn't included in column numbering\n",
    "print(\"\\n\")\n"
   ]
  },
  {
   "cell_type": "code",
   "execution_count": 21,
   "metadata": {},
   "outputs": [
    {
     "name": "stdout",
     "output_type": "stream",
     "text": [
      "     S_no        Country  Cases  Cases_Exact\n",
      "USA     1  United States    1.9    1900000.0\n",
      "BRA     2         Brazil    1.0    1000000.0\n",
      "IND     3          India    0.8     800000.0\n",
      "RUS     4         Russia    0.6     600000.0\n"
     ]
    }
   ],
   "source": [
    "# Creating Columns\n",
    "df[\"Cases_Exact\"] = df[\"Cases\"] * 1000000\n",
    "print(df)"
   ]
  },
  {
   "cell_type": "code",
   "execution_count": 22,
   "metadata": {},
   "outputs": [],
   "source": [
    "# Renaming Columns\n",
    "df.columns = ['s_no','country','cases_mn', 'cases_exact']"
   ]
  },
  {
   "cell_type": "code",
   "execution_count": 24,
   "metadata": {},
   "outputs": [
    {
     "name": "stdout",
     "output_type": "stream",
     "text": [
      "1075000.0\n"
     ]
    }
   ],
   "source": [
    "# Summary Statistics\n",
    "print(df[\"cases_exact\"].mean())\n"
   ]
  },
  {
   "cell_type": "code",
   "execution_count": 25,
   "metadata": {},
   "outputs": [
    {
     "name": "stdout",
     "output_type": "stream",
     "text": [
      "     s_no        country  cases_mn  cases_exact Location\n",
      "USA     1  United States       1.9    1900000.0     West\n",
      "BRA     2         Brazil       1.0    1000000.0     West\n",
      "IND     3          India       0.8     800000.0     East\n",
      "RUS     4         Russia       0.6     600000.0     East\n",
      "West    2\n",
      "East    2\n",
      "Name: Location, dtype: int64\n",
      "West    2\n",
      "East    2\n",
      "Name: Location, dtype: int64\n",
      "West    0.5\n",
      "East    0.5\n",
      "Name: Location, dtype: float64\n"
     ]
    },
    {
     "ename": "KeyError",
     "evalue": "'Column not found: cases_exct'",
     "output_type": "error",
     "traceback": [
      "\u001b[1;31m---------------------------------------------------------------------------\u001b[0m",
      "\u001b[1;31mKeyError\u001b[0m                                  Traceback (most recent call last)",
      "\u001b[1;32m<ipython-input-25-6cf0bf068b9f>\u001b[0m in \u001b[0;36m<module>\u001b[1;34m\u001b[0m\n\u001b[0;32m      9\u001b[0m \u001b[1;33m\u001b[0m\u001b[0m\n\u001b[0;32m     10\u001b[0m \u001b[1;31m# Group By\u001b[0m\u001b[1;33m\u001b[0m\u001b[1;33m\u001b[0m\u001b[1;33m\u001b[0m\u001b[0m\n\u001b[1;32m---> 11\u001b[1;33m \u001b[0mprint\u001b[0m\u001b[1;33m(\u001b[0m\u001b[0mdf\u001b[0m\u001b[1;33m.\u001b[0m\u001b[0mgroupby\u001b[0m\u001b[1;33m(\u001b[0m\u001b[1;34m\"Location\"\u001b[0m\u001b[1;33m)\u001b[0m\u001b[1;33m[\u001b[0m\u001b[1;34m\"cases_exct\"\u001b[0m\u001b[1;33m]\u001b[0m\u001b[1;33m.\u001b[0m\u001b[0msum\u001b[0m\u001b[1;33m(\u001b[0m\u001b[1;33m)\u001b[0m\u001b[1;33m)\u001b[0m\u001b[1;33m\u001b[0m\u001b[1;33m\u001b[0m\u001b[0m\n\u001b[0m\u001b[0;32m     12\u001b[0m \u001b[1;33m\u001b[0m\u001b[0m\n\u001b[0;32m     13\u001b[0m \u001b[1;31m# Pivot Table\u001b[0m\u001b[1;33m\u001b[0m\u001b[1;33m\u001b[0m\u001b[1;33m\u001b[0m\u001b[0m\n",
      "\u001b[1;32m~\\Anaconda3\\lib\\site-packages\\pandas\\core\\groupby\\generic.py\u001b[0m in \u001b[0;36m__getitem__\u001b[1;34m(self, key)\u001b[0m\n\u001b[0;32m   1540\u001b[0m                 \u001b[0mstacklevel\u001b[0m\u001b[1;33m=\u001b[0m\u001b[1;36m2\u001b[0m\u001b[1;33m,\u001b[0m\u001b[1;33m\u001b[0m\u001b[1;33m\u001b[0m\u001b[0m\n\u001b[0;32m   1541\u001b[0m             )\n\u001b[1;32m-> 1542\u001b[1;33m         \u001b[1;32mreturn\u001b[0m \u001b[0msuper\u001b[0m\u001b[1;33m(\u001b[0m\u001b[1;33m)\u001b[0m\u001b[1;33m.\u001b[0m\u001b[0m__getitem__\u001b[0m\u001b[1;33m(\u001b[0m\u001b[0mkey\u001b[0m\u001b[1;33m)\u001b[0m\u001b[1;33m\u001b[0m\u001b[1;33m\u001b[0m\u001b[0m\n\u001b[0m\u001b[0;32m   1543\u001b[0m \u001b[1;33m\u001b[0m\u001b[0m\n\u001b[0;32m   1544\u001b[0m     \u001b[1;32mdef\u001b[0m \u001b[0m_gotitem\u001b[0m\u001b[1;33m(\u001b[0m\u001b[0mself\u001b[0m\u001b[1;33m,\u001b[0m \u001b[0mkey\u001b[0m\u001b[1;33m,\u001b[0m \u001b[0mndim\u001b[0m\u001b[1;33m:\u001b[0m \u001b[0mint\u001b[0m\u001b[1;33m,\u001b[0m \u001b[0msubset\u001b[0m\u001b[1;33m=\u001b[0m\u001b[1;32mNone\u001b[0m\u001b[1;33m)\u001b[0m\u001b[1;33m:\u001b[0m\u001b[1;33m\u001b[0m\u001b[1;33m\u001b[0m\u001b[0m\n",
      "\u001b[1;32m~\\Anaconda3\\lib\\site-packages\\pandas\\core\\base.py\u001b[0m in \u001b[0;36m__getitem__\u001b[1;34m(self, key)\u001b[0m\n\u001b[0;32m    278\u001b[0m             \u001b[1;31m# error: \"SelectionMixin\" has no attribute \"obj\"  [attr-defined]\u001b[0m\u001b[1;33m\u001b[0m\u001b[1;33m\u001b[0m\u001b[1;33m\u001b[0m\u001b[0m\n\u001b[0;32m    279\u001b[0m             \u001b[1;32mif\u001b[0m \u001b[0mkey\u001b[0m \u001b[1;32mnot\u001b[0m \u001b[1;32min\u001b[0m \u001b[0mself\u001b[0m\u001b[1;33m.\u001b[0m\u001b[0mobj\u001b[0m\u001b[1;33m:\u001b[0m  \u001b[1;31m# type: ignore[attr-defined]\u001b[0m\u001b[1;33m\u001b[0m\u001b[1;33m\u001b[0m\u001b[0m\n\u001b[1;32m--> 280\u001b[1;33m                 \u001b[1;32mraise\u001b[0m \u001b[0mKeyError\u001b[0m\u001b[1;33m(\u001b[0m\u001b[1;34mf\"Column not found: {key}\"\u001b[0m\u001b[1;33m)\u001b[0m\u001b[1;33m\u001b[0m\u001b[1;33m\u001b[0m\u001b[0m\n\u001b[0m\u001b[0;32m    281\u001b[0m             \u001b[1;32mreturn\u001b[0m \u001b[0mself\u001b[0m\u001b[1;33m.\u001b[0m\u001b[0m_gotitem\u001b[0m\u001b[1;33m(\u001b[0m\u001b[0mkey\u001b[0m\u001b[1;33m,\u001b[0m \u001b[0mndim\u001b[0m\u001b[1;33m=\u001b[0m\u001b[1;36m1\u001b[0m\u001b[1;33m)\u001b[0m\u001b[1;33m\u001b[0m\u001b[1;33m\u001b[0m\u001b[0m\n\u001b[0;32m    282\u001b[0m \u001b[1;33m\u001b[0m\u001b[0m\n",
      "\u001b[1;31mKeyError\u001b[0m: 'Column not found: cases_exct'"
     ]
    }
   ],
   "source": [
    "# Summary by Categorical Variables\n",
    "df[\"Location\"] = [\"West\", \"West\", \"East\", \"East\"]\n",
    "print(df.head())\n",
    "\n",
    "# Value Counts\n",
    "print(df[\"Location\"].value_counts())\n",
    "print(df[\"Location\"].value_counts(sort = True)) # Sorting\n",
    "print(df[\"Location\"].value_counts(normalize = True)) # Proportion\n",
    "\n",
    "# Group By\n",
    "print(df.groupby(\"Location\")[\"cases_exct\"].sum())\n",
    "\n",
    "# Pivot Table\n",
    "print(df.pivot_table(values = \"case_exact\", index = \"Location\",\n",
    "                     columns = \"Country\", aggfunc = np.sum, \n",
    "                     fill_value = 0, margins = True)) # By default Calculate the Mean"
   ]
  }
 ],
 "metadata": {
  "kernelspec": {
   "display_name": "Python 3",
   "language": "python",
   "name": "python3"
  },
  "language_info": {
   "codemirror_mode": {
    "name": "ipython",
    "version": 3
   },
   "file_extension": ".py",
   "mimetype": "text/x-python",
   "name": "python",
   "nbconvert_exporter": "python",
   "pygments_lexer": "ipython3",
   "version": "3.8.8"
  }
 },
 "nbformat": 4,
 "nbformat_minor": 2
}
