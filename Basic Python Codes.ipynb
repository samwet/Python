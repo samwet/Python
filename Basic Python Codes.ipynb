{
 "cells": [
  {
   "cell_type": "markdown",
   "metadata": {},
   "source": [
    "First Things First"
   ]
  },
  {
   "cell_type": "code",
   "execution_count": 1,
   "metadata": {},
   "outputs": [
    {
     "name": "stdout",
     "output_type": "stream",
     "text": [
      "Hello World!\n"
     ]
    }
   ],
   "source": [
    "print(\"Hello World!\")"
   ]
  },
  {
   "cell_type": "markdown",
   "metadata": {},
   "source": [
    "Data Types"
   ]
  },
  {
   "cell_type": "code",
   "execution_count": 37,
   "metadata": {},
   "outputs": [
    {
     "name": "stdout",
     "output_type": "stream",
     "text": [
      "<class 'int'>\n",
      "<class 'float'>\n",
      "<class 'str'>\n",
      "<class 'bool'>\n"
     ]
    }
   ],
   "source": [
    "i = 3\n",
    "f = 3.5\n",
    "s = \"string\"\n",
    "b = True\n",
    "\n",
    "print(type(i))\n",
    "print(type(f))\n",
    "print(type(s))\n",
    "print(type(b))"
   ]
  },
  {
   "cell_type": "markdown",
   "metadata": {},
   "source": [
    "Operators"
   ]
  },
  {
   "cell_type": "code",
   "execution_count": 38,
   "metadata": {
    "scrolled": true
   },
   "outputs": [
    {
     "name": "stdout",
     "output_type": "stream",
     "text": [
      "8\n",
      "9\n",
      "3\n",
      "\n",
      "\n",
      "True\n",
      "True\n",
      "True\n",
      "\n",
      "\n",
      "6\n",
      "33\n",
      "33\n"
     ]
    }
   ],
   "source": [
    "print(2 ** 3) # Exponentiation\n",
    "print(97 // 10) # Floor Division\n",
    "print(27 % 6) # Modulo\n",
    "\n",
    "print(\"\\n\")\n",
    "\n",
    "print(1 == 1) # True\n",
    "print(True > False) # True\n",
    "print(5 != False) # True\n",
    "\n",
    "print(\"\\n\")\n",
    "\n",
    "print(3 + 3)\n",
    "print(\"3\" + \"3\")\n",
    "#print(\"3\" + 3) Error: can only concatenate same data types\n",
    "print(\"3\" + str(3))\n"
   ]
  },
  {
   "cell_type": "markdown",
   "metadata": {},
   "source": [
    "Conditional Logic and Loops"
   ]
  },
  {
   "cell_type": "code",
   "execution_count": 4,
   "metadata": {
    "scrolled": false
   },
   "outputs": [
    {
     "name": "stdout",
     "output_type": "stream",
     "text": [
      "Okay\n",
      "\n",
      "\n",
      "5\n",
      "4\n",
      "3\n",
      "2\n",
      "1\n",
      "\n",
      "\n",
      "4\n",
      "3\n",
      "2\n",
      "1\n",
      "0\n",
      "\n",
      "\n",
      "13\n",
      "17\n",
      "21\n",
      "29\n"
     ]
    }
   ],
   "source": [
    "# Conditional Logic\n",
    "x = 45.5\n",
    "if (x < 33):\n",
    "    print(\"Fail\")\n",
    "elif (x < 50):\n",
    "    print(\"Okay\")\n",
    "else:\n",
    "    print(\"Good\")\n",
    "\n",
    "print(\"\\n\")    \n",
    "\n",
    "# While Loop\n",
    "y = 5\n",
    "while (y > 0):\n",
    "    print(y)\n",
    "    y = y - 1\n",
    "\n",
    "print(\"\\n\")    \n",
    "\n",
    "y = 5\n",
    "while (y > 0):\n",
    "    y = y - 1\n",
    "    print(y)\n",
    "\n",
    "print(\"\\n\")    \n",
    "\n",
    "# For Loop\n",
    "my_list = [13, 17, 21, 29]\n",
    "for i in my_list:  # For each element in sequence\n",
    "    print(i)\n"
   ]
  },
  {
   "cell_type": "markdown",
   "metadata": {},
   "source": [
    "Functions and Methods"
   ]
  },
  {
   "cell_type": "code",
   "execution_count": 5,
   "metadata": {
    "scrolled": true
   },
   "outputs": [
    {
     "name": "stdout",
     "output_type": "stream",
     "text": [
      "2\n",
      "1.7\n"
     ]
    }
   ],
   "source": [
    "# Round\n",
    "print(round(1.68)) # Default argument is 0\n",
    "print(round(1.68, 1))"
   ]
  },
  {
   "cell_type": "markdown",
   "metadata": {},
   "source": [
    "Lists"
   ]
  },
  {
   "cell_type": "code",
   "execution_count": 4,
   "metadata": {},
   "outputs": [
    {
     "name": "stdout",
     "output_type": "stream",
     "text": [
      "1\n",
      "125\n",
      "\n",
      "\n",
      "[1, 8, 27, 64, 125]\n",
      "[1, 8, 27, 64, 125]\n",
      "[1, 8, 27, 64, 125]\n",
      "[1, 8]\n",
      "[1, 8]\n",
      "[27, 64, 125]\n",
      "\n",
      "\n",
      "[1, 8, 27, 64, 125]\n",
      "[0, 8, 27, 64, 125]\n",
      "[0, 8, 27, 64, 125, 216]\n",
      "[0, 8, 27, 64, 125]\n",
      "[0, 8, 27, 64]\n",
      "\n",
      "\n",
      "[1, 8, 27, 64]\n",
      "[1, 8, 27, 64]\n",
      "\n",
      "\n",
      "[3, 'aaaaa', 3]\n"
     ]
    }
   ],
   "source": [
    "my_list = [1,8,27,64,125]\n",
    "\n",
    "print(my_list[0]) # Index starts from 0\n",
    "print(my_list[-1]) # Accessing Last Element\n",
    "\n",
    "print(\"\\n\")\n",
    "\n",
    "print(my_list) # All elements\n",
    "print(my_list[:]) # All elements - No difference in output\n",
    "print(my_list[0:]) # All elements\n",
    "print(my_list[0:2]) # First index included Last index not included\n",
    "print(my_list[:2]) # Same as above\n",
    "print(my_list[2:]) # 2nd and beyond\n",
    "\n",
    "print(\"\\n\")\n",
    "\n",
    "print(my_list)\n",
    "my_list[0] = 0 # Update element\n",
    "print(my_list)\n",
    "\n",
    "my_list = my_list + [216] # Add element\n",
    "print(my_list)\n",
    "\n",
    "del(my_list[-1]) # Delete Last Element\n",
    "print(my_list)\n",
    "del my_list[-1] # Alternate syntax\n",
    "print(my_list)\n",
    "\n",
    "print(\"\\n\")\n",
    "\n",
    "my_new_list = my_list\n",
    "my_new_list[0] = 1\n",
    "print(my_new_list)\n",
    "print(my_list) # Old List is also affected\n",
    "my_new_list_2 = list(my_new_list) # Use this or my_new_list_2 = my_new_list(:)\n",
    "\n",
    "print(\"\\n\")\n",
    "funk = [1 + 2, \"a\" * 5, 3] # Funky Feature - Operations on the Go\n",
    "print(funk) # A is printed 5 times"
   ]
  },
  {
   "cell_type": "markdown",
   "metadata": {},
   "source": [
    "Dictionaries"
   ]
  },
  {
   "cell_type": "code",
   "execution_count": 1,
   "metadata": {
    "scrolled": true
   },
   "outputs": [
    {
     "name": "stdout",
     "output_type": "stream",
     "text": [
      "{'model_a': 500000, 'model_b': 400000, 'model_c': 350000}\n",
      "\n",
      "\n",
      "500000\n",
      "{'model_a': 500000, 'model_b': 450000, 'model_c': 350000}\n",
      "\n",
      "\n",
      "{'model_b': 450000, 'model_c': 350000}\n",
      "Variable   Type    Data/Info\n",
      "----------------------------\n",
      "pricing    dict    n=2\n"
     ]
    }
   ],
   "source": [
    "pricing = {\"model_a\":500000 , \"model_b\":400000, \"model_c\":350000}\n",
    "print(pricing)\n",
    "print(\"\\n\")\n",
    "\n",
    "print(pricing['model_a']) # Printing an element\n",
    "pricing['model_b'] = 450000 # Updating an element\n",
    "print(pricing)\n",
    "print(\"\\n\")\n",
    "\n",
    "del(pricing['model_a']) # Deleting an element\n",
    "print(pricing)\n"
   ]
  },
  {
   "cell_type": "code",
   "execution_count": 3,
   "metadata": {},
   "outputs": [
    {
     "name": "stdout",
     "output_type": "stream",
     "text": [
      "No variables match your requested type.\n"
     ]
    }
   ],
   "source": [
    "%whos # To view the variables in the environment"
   ]
  },
  {
   "cell_type": "markdown",
   "metadata": {},
   "source": [
    "NumPy"
   ]
  },
  {
   "cell_type": "code",
   "execution_count": 21,
   "metadata": {},
   "outputs": [
    {
     "name": "stdout",
     "output_type": "stream",
     "text": [
      "[79, 80, 85, 90, 70]\n",
      "<class 'list'>\n",
      "[79 80 85 90 70]\n",
      "<class 'numpy.ndarray'>\n",
      "\n",
      "\n",
      "[False False  True  True False]\n",
      "[85 90]\n",
      "[85 90]\n",
      "\n",
      "\n",
      "[79, 80, 85, 90, 70, 50]\n",
      "[129 130 135 140 120]\n",
      "\n",
      "\n",
      "[[ 1  2  3  4]\n",
      " [ 1  4  9 16]]\n",
      "<class 'numpy.ndarray'>\n",
      "(2, 4)\n",
      "\n",
      "\n",
      "2\n",
      "2\n",
      "\n",
      "\n",
      "[1 2 3]\n",
      "[2 3 4]\n",
      "[2 3 4]\n",
      "[1 2 3 1]\n"
     ]
    }
   ],
   "source": [
    "import numpy as np\n",
    "\n",
    "my_marks_list = [79,80,85,90,70]\n",
    "my_marks_arr = np.array([79,80,85,90,70])\n",
    "print(my_marks_list) \n",
    "print(type(my_marks_list)) # list\n",
    "print(my_marks_arr)\n",
    "print(type(my_marks_arr)) # numpy.ndarray\n",
    "\n",
    "print(\"\\n\")\n",
    "\n",
    "\n",
    "a_plus = my_marks_arr > 80\n",
    "print(a_plus)\n",
    "\n",
    "a_plus_list = my_marks_arr[a_plus]\n",
    "print(a_plus_list)\n",
    "a_plus_list_easy = my_marks_arr[my_marks_arr>80] # Alternative\n",
    "print(a_plus_list_easy)\n",
    "\n",
    "\n",
    "print(\"\\n\")\n",
    "\n",
    "my_marks_list = my_marks_list + [50]\n",
    "my_marks_arr = my_marks_arr + 50\n",
    "print(my_marks_list)\n",
    "print(my_marks_arr)\n",
    "\n",
    "print(\"\\n\")\n",
    "\n",
    "\n",
    "my_2d_array = np.array([[1,2,3,4],[1,4,9,16]])\n",
    "print(my_2d_array)\n",
    "print(type(my_2d_array))\n",
    "print(my_2d_array.shape) # rows, column\n",
    "\n",
    "print(\"\\n\")\n",
    "\n",
    "# Accessing elements\n",
    "print(my_2d_array[0][1])\n",
    "print(my_2d_array[0,1])\n",
    "\n",
    "print(\"\\n\")\n",
    "\n",
    "# Adding elements\n",
    "init_list = np.array([1,2,3])\n",
    "init_list_1 = init_list + 1 # Adds one to each elements\n",
    "init_list_2 = init_list + np.array([1]) # Same\n",
    "init_list_3 = np.append(init_list,np.array([1])) # Append\n",
    "\n",
    "print(init_list)\n",
    "print(init_list_1)\n",
    "print(init_list_2)\n",
    "print(init_list_3)"
   ]
  },
  {
   "cell_type": "markdown",
   "metadata": {},
   "source": [
    "Pandas and Dataframes"
   ]
  },
  {
   "cell_type": "code",
   "execution_count": 17,
   "metadata": {},
   "outputs": [
    {
     "name": "stdout",
     "output_type": "stream",
     "text": [
      "{'S_no': [1, 2, 3, 4], 'Country': ['United States', 'Brazil', 'India', 'Russia'], 'Cases': [1.9, 1, 0.8, 0.6]}\n",
      "   S_no        Country  Cases\n",
      "0     1  United States    1.9\n",
      "1     2         Brazil    1.0\n",
      "2     3          India    0.8\n",
      "3     4         Russia    0.6\n",
      "\n",
      "\n",
      "     S_no        Country  Cases\n",
      "USA     1  United States    1.9\n",
      "BRA     2         Brazil    1.0\n",
      "IND     3          India    0.8\n",
      "RUS     4         Russia    0.6\n",
      "\n",
      "\n",
      "     S_no        Country  Cases\n",
      "USA     1  United States    1.9\n",
      "BRA     2         Brazil    1.0\n",
      "\n",
      "\n",
      "<class 'pandas.core.series.Series'>\n",
      "<class 'pandas.core.frame.DataFrame'>\n",
      "\n",
      "\n",
      "S_no                   1\n",
      "Country    United States\n",
      "Cases                1.9\n",
      "Name: USA, dtype: object\n",
      "\n",
      "\n",
      "Country    United States\n",
      "Cases                1.9\n",
      "Name: USA, dtype: object\n",
      "\n",
      "\n",
      "           Country  Cases\n",
      "USA  United States    1.9\n",
      "IND          India    0.8\n",
      "\n",
      "\n",
      "           Country  Cases\n",
      "USA  United States    1.9\n",
      "IND          India    0.8\n",
      "\n",
      "\n",
      "     S_no        Country  Cases\n",
      "USA     1  United States    1.9\n",
      "BRA     2         Brazil    1.0\n"
     ]
    }
   ],
   "source": [
    "import pandas as pd\n",
    "\n",
    "s_no = [1,2,3,4]\n",
    "country = [\"United States\", \"Brazil\", \"India\", \"Russia\"]\n",
    "cases = [1.9, 1, 0.8, 0.6]\n",
    "\n",
    "df_dict = {\"S_no\":s_no, \"Country\":country, \"Cases\":cases}\n",
    "print(df_dict)\n",
    "\n",
    "df = pd.DataFrame(df_dict)\n",
    "print(df) # Row Indexes are Created Automatically\n",
    "\n",
    "# Alternative\n",
    "df_2 = pd.DataFrame(\n",
    "    {\n",
    "    's_no' : [1,2,3,4],\n",
    "    'country' : [\"United States\", \"Brazil\", \"India\", \"Russia\"],\n",
    "    'cases' : [1.9, 1, 0.8, 0.6]\n",
    "    }\n",
    ")\n",
    "\n",
    "print(\"\\n\")\n",
    "\n",
    "# Assign Row Index\n",
    "df.index = [\"USA\", \"BRA\", \"IND\", \"RUS\"]\n",
    "print(df)\n",
    "\n",
    "\n",
    "print(\"\\n\")\n",
    "\n",
    "# Subsetting Data\n",
    "print(df[0:2]) # Selecting Rows. Default Return Type is Pandas DataFrame\n",
    "print(\"\\n\")\n",
    "print(type(df[\"Country\"])) # Selecting Columns. Default Return Type is Pandas Series. More Columns can't be Selected\n",
    "print(type(df[[\"Country\", \"Cases\"]])) # Selecting Columns and Returning Pandas DataFrame\n",
    "print(\"\\n\")\n",
    "\n",
    "print(df.loc[\"USA\"]) # Selecting Rows using loc. Default output isn't a DF. Use Double Square Brackets for DF\n",
    "print(\"\\n\")\n",
    "print(df.loc[[\"USA\", \"IND\"],[\"Country\", \"Cases\"]]) # Output as DF by using double brackets\n",
    "print(\"\\n\")\n",
    "print(df.iloc[[0,2],[1, 2]]) # Same result using iloc - DF Index isn't included in column numbering\n",
    "print(\"\\n\")\n",
    "\n",
    "# Fitlering Data\n",
    "print(df.loc[df.Cases>=1])\n",
    "\n",
    "\n",
    "\n"
   ]
  },
  {
   "cell_type": "code",
   "execution_count": 35,
   "metadata": {},
   "outputs": [
    {
     "name": "stdout",
     "output_type": "stream",
     "text": [
      "Variable        Type         Data/Info\n",
      "--------------------------------------\n",
      "cases           list         n=4\n",
      "country         list         n=4\n",
      "data            ndarray      3x5: 15 elems, type `int32`, 60 bytes\n",
      "df              DataFrame         s_no        country <...>   4         Russia   0.6\n",
      "df_dict         dict         n=3\n",
      "my_2d_array     ndarray      2x4: 8 elems, type `int32`, 32 bytes\n",
      "my_marks        ndarray      5: 5 elems, type `int32`, 20 bytes\n",
      "my_marks_arr    ndarray      5: 5 elems, type `int32`, 20 bytes\n",
      "my_marks_list   list         n=6\n",
      "np              module       <module 'numpy' from 'C:\\<...>ges\\\\numpy\\\\__init__.py'>\n",
      "pd              module       <module 'pandas' from 'C:<...>es\\\\pandas\\\\__init__.py'>\n",
      "s_no            list         n=4\n"
     ]
    }
   ],
   "source": [
    "%whos"
   ]
  }
 ],
 "metadata": {
  "kernelspec": {
   "display_name": "Python 3",
   "language": "python",
   "name": "python3"
  },
  "language_info": {
   "codemirror_mode": {
    "name": "ipython",
    "version": 3
   },
   "file_extension": ".py",
   "mimetype": "text/x-python",
   "name": "python",
   "nbconvert_exporter": "python",
   "pygments_lexer": "ipython3",
   "version": "3.7.1"
  }
 },
 "nbformat": 4,
 "nbformat_minor": 2
}
